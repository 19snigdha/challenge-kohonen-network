{
 "cells": [
  {
   "cell_type": "markdown",
   "metadata": {},
   "source": [
    "1. Implement a Kohonen network\n",
    "Use the above description to implement a Kohonen network\n",
    "Make sure you can configure the size of the input vector and the size of the map\n",
    "Make sure node's weights are initialized to random values"
   ]
  },
  {
   "cell_type": "code",
   "execution_count": 1,
   "metadata": {},
   "outputs": [],
   "source": [
    "#importing the libraries\n",
    "import random\n",
    "import math\n",
    "import time\n",
    "import numpy as np\n",
    "import matplotlib.pyplot as plt\n",
    "%matplotlib inline"
   ]
  },
  {
   "cell_type": "code",
   "execution_count": 2,
   "metadata": {},
   "outputs": [],
   "source": [
    "#fuction declaration\n",
    "\n",
    "#function to create the kohonen network\n",
    "def build_kohonen_network(size_X, size_Y,n):\n",
    "    \n",
    "    return np.random.random((size_X,size_Y,n)) #returns the kohonen network of size_X, size_Y and n - dimension\n",
    "\n",
    "#function to calculate the euclidean distance\n",
    "def euclidean_distance(arr1, arr2):\n",
    "    \n",
    "    euclidean_dist = np.linalg.norm(arr1-arr2)\n",
    "    return euclidean_dist #returns the euclidean distance between two arrays\n",
    "\n",
    "#function to update the learning rate(alpha)\n",
    "def update_learning_rate(t):\n",
    "    \n",
    "    return alpha_0*math.e**(-t/time_constant) #returns the updated learning rate for each iteration\n",
    "\n",
    "#function to update the radius(sigma)\n",
    "def update_radius(t):\n",
    "    \n",
    "    return sigma_0*math.e**(-t/time_constant) #returns the neighbourhood radius for each iteration\n",
    "\n",
    "#function for index position \n",
    "def index_position(index):\n",
    "    \n",
    "    x_index = index//size_X\n",
    "    y_index = index%size_X\n",
    "    return np.array([x_index, y_index]) #returns the x_index and y_index of a integer in the network\n",
    "\n",
    "#function to update the weight of the BMU\n",
    "def update_weight(BMU,t,input_vector):\n",
    "    #updating the learning rate for each iteration\n",
    "    alpha_t = update_learning_rate(t) \n",
    "    #updating the sigma for each iteration\n",
    "    sigma_t = update_radius(t)\n",
    "    \n",
    "    #finding the neighbour nodes of BMU\n",
    "    for node in range(size_X*size_Y):\n",
    "        if  euclidean_distance(index_position(node),index_position(BMU)) < sigma_t: #neighbour check condition with the radius\n",
    "            distance = euclidean_distance(index_position(BMU),index_position(node)) #getting the distance of the neighbour to BMU\n",
    "            influnce  = math.e**(-distance*distance/(2*sigma_t*sigma_t)) #calculating influence \n",
    "            X = node//size_X\n",
    "            Y = node%size_X\n",
    "            #weight update\n",
    "            image_data[X][Y] += alpha_t*influnce*(input_vector - image_data[X][Y])\n",
    "            \n",
    "#main function to execute the iterations\n",
    "def run():\n",
    "    for t in range(1,max_iterations+1): #run the iteration till max_itrations\n",
    "        temp_distance = []\n",
    "        input_vector = train_data[(t-1)%train_data_size] \n",
    "        for i in range(size_X*size_Y):\n",
    "            x_index = i//size_X\n",
    "            y_index = i%size_X\n",
    "            dist = euclidean_distance(input_vector,image_data[x_index][y_index])\n",
    "            temp_distance.append(dist)\n",
    "        BMU = temp_distance.index(min(temp_distance))\n",
    "        update_weight(BMU,t,input_vector)"
   ]
  },
  {
   "cell_type": "markdown",
   "metadata": {},
   "source": [
    "2. Train a 10x10 network over 100 iterations\n",
    "Training data is a random set of 20 colours\n",
    "How long does this take?\n",
    "What does the map look like? (You will need to translate the weights of each node in the map to pixel data)"
   ]
  },
  {
   "cell_type": "code",
   "execution_count": 3,
   "metadata": {},
   "outputs": [],
   "source": [
    "#initalization of parameters\n",
    "size_X = 10 #width\n",
    "size_Y = 10 #height\n",
    "max_iterations = 100 #max itrations\n",
    "sigma_0 = max(size_X,size_Y)/2 #inital radius\n",
    "alpha_0 = 0.1 #initial learning rate\n",
    "time_constant = max_iterations/math.log(sigma_0) #time constant\n"
   ]
  },
  {
   "cell_type": "code",
   "execution_count": 4,
   "metadata": {},
   "outputs": [],
   "source": [
    "np.random.seed =45 #random seed\n",
    "n = 3 #3-dimensions \n",
    "image_data = build_kohonen_network(size_X, size_Y,n) #function call to create the kohonen network\n",
    "\n",
    "train_data_size = 20 #training data size\n",
    "train_data = np.random.random((train_data_size,n)) #generating the training data"
   ]
  },
  {
   "cell_type": "code",
   "execution_count": 5,
   "metadata": {},
   "outputs": [
    {
     "name": "stdout",
     "output_type": "stream",
     "text": [
      "Training time 0.23011994361877441 seconds \n"
     ]
    },
    {
     "data": {
      "text/plain": [
       "<matplotlib.image.AxesImage at 0x11a256278>"
      ]
     },
     "execution_count": 5,
     "metadata": {},
     "output_type": "execute_result"
    },
    {
     "data": {
      "image/png": "[encoded data removed]",
      "text/plain": [
       "<Figure size 432x288 with 1 Axes>"
      ]
     },
     "metadata": {
      "needs_background": "light"
     },
     "output_type": "display_data"
    }
   ],
   "source": [
    "#Calcualting the run time\n",
    "begin_time = time.time() #start time\n",
    "\n",
    "#calling the main function for iteration on t = 1 to max_iterations\n",
    "run()\n",
    "print(\"Training time\",time.time() - begin_time, \"seconds \") #prints the time taken \n",
    "\n",
    "#visualisation\n",
    "plt.imshow(image_data)"
   ]
  },
  {
   "cell_type": "markdown",
   "metadata": {},
   "source": [
    "What does this look like if you perform 200 & 500 iterations?"
   ]
  },
  {
   "cell_type": "code",
   "execution_count": 6,
   "metadata": {},
   "outputs": [],
   "source": [
    "#initalization of parameters\n",
    "size_X = 10 #width\n",
    "size_Y = 10 #height\n",
    "max_iterations = 200 #max itrations\n",
    "sigma_0 = max(size_X,size_Y)/2 #inital radius\n",
    "alpha_0 = 0.1 #initial learning rate\n",
    "time_constant = max_iterations/math.log(sigma_0) #time constant"
   ]
  },
  {
   "cell_type": "code",
   "execution_count": 7,
   "metadata": {},
   "outputs": [],
   "source": [
    "np.random.seed =45 #random seed\n",
    "n = 3 #3-dimensions \n",
    "image_data = build_kohonen_network(size_X, size_Y,n) #function call to create the kohonen network\n",
    "\n",
    "train_data_size = 20 #training data size\n",
    "train_data = np.random.random((train_data_size,n)) #generating the training data\n"
   ]
  },
  {
   "cell_type": "code",
   "execution_count": 8,
   "metadata": {},
   "outputs": [
    {
     "name": "stdout",
     "output_type": "stream",
     "text": [
      "Training time 0.5108821392059326 seconds \n"
     ]
    },
    {
     "data": {
      "text/plain": [
       "<matplotlib.image.AxesImage at 0x11a2a3b00>"
      ]
     },
     "execution_count": 8,
     "metadata": {},
     "output_type": "execute_result"
    },
    {
     "data": {
      "image/png": "[encoded data removed]",
      "text/plain": [
       "<Figure size 432x288 with 1 Axes>"
      ]
     },
     "metadata": {
      "needs_background": "light"
     },
     "output_type": "display_data"
    }
   ],
   "source": [
    "#Calcualting the run time\n",
    "begin_time = time.time() #start time\n",
    "\n",
    "#calling the main function for iteration on t = 1 to max_iterations\n",
    "run()\n",
    "print(\"Training time\",time.time() - begin_time, \"seconds \") #prints the time taken \n",
    "\n",
    "#visualisation\n",
    "plt.imshow(image_data)"
   ]
  },
  {
   "cell_type": "code",
   "execution_count": 9,
   "metadata": {},
   "outputs": [],
   "source": [
    "#initalization of parameters\n",
    "size_X = 10 #width\n",
    "size_Y = 10 #height\n",
    "max_iterations = 500 #max itrations\n",
    "sigma_0 = max(size_X,size_Y)/2 #inital radius\n",
    "alpha_0 = 0.1 #initial learning rate\n",
    "time_constant = max_iterations/math.log(sigma_0) #time constant\n"
   ]
  },
  {
   "cell_type": "code",
   "execution_count": 10,
   "metadata": {},
   "outputs": [],
   "source": [
    "np.random.seed =45 #random seed\n",
    "n = 3 #3-dimensions \n",
    "image_data = build_kohonen_network(size_X, size_Y,n) #function call to create the kohonen network\n",
    "\n",
    "train_data_size = 20 #training data size\n",
    "train_data = np.random.random((train_data_size,n)) #generating the training data"
   ]
  },
  {
   "cell_type": "code",
   "execution_count": 11,
   "metadata": {},
   "outputs": [
    {
     "name": "stdout",
     "output_type": "stream",
     "text": [
      "Training time 1.1003010272979736 seconds \n"
     ]
    },
    {
     "data": {
      "text/plain": [
       "<matplotlib.image.AxesImage at 0x11a717ef0>"
      ]
     },
     "execution_count": 11,
     "metadata": {},
     "output_type": "execute_result"
    },
    {
     "data": {
      "image/png": "[encoded data removed]",
      "text/plain": [
       "<Figure size 432x288 with 1 Axes>"
      ]
     },
     "metadata": {
      "needs_background": "light"
     },
     "output_type": "display_data"
    }
   ],
   "source": [
    "#Calcualting the run time\n",
    "begin_time = time.time() #start time\n",
    "\n",
    "#calling the main function for iteration on t = 1 to max_iterations\n",
    "run()\n",
    "print(\"Training time\",time.time() - begin_time, \"seconds \") #prints the time taken \n",
    "\n",
    "#visualisation\n",
    "plt.imshow(image_data)"
   ]
  },
  {
   "cell_type": "markdown",
   "metadata": {},
   "source": [
    "3. Train a 100x100 network over 1000 iterations\n",
    "This network will likely be significantly slower to train\n",
    "What could you do to improve performance?\n",
    "What does the network look like after 1000 iterations?\n",
    "You should end up with something like below:"
   ]
  },
  {
   "cell_type": "code",
   "execution_count": 12,
   "metadata": {},
   "outputs": [],
   "source": [
    "#initalization of parameters\n",
    "size_X = 100 #width\n",
    "size_Y = 100 #height\n",
    "max_iterations = 1000 #max itrations\n",
    "sigma_0 = max(size_X,size_Y)/2 #inital radius\n",
    "alpha_0 = 0.1 #initial learning rate\n",
    "time_constant = max_iterations/math.log(sigma_0) #time constant"
   ]
  },
  {
   "cell_type": "code",
   "execution_count": 13,
   "metadata": {},
   "outputs": [],
   "source": [
    "np.random.seed =45 #random seed\n",
    "n = 3 #3-dimensions \n",
    "image_data = build_kohonen_network(size_X, size_Y,n) #function call to create the kohonen network\n",
    "\n",
    "train_data_size = 20 #training data size\n",
    "train_data = np.random.random((train_data_size,n)) #generating the training data"
   ]
  },
  {
   "cell_type": "code",
   "execution_count": 14,
   "metadata": {},
   "outputs": [
    {
     "name": "stdout",
     "output_type": "stream",
     "text": [
      "Training time 195.61323380470276 seconds \n"
     ]
    },
    {
     "data": {
      "text/plain": [
       "<matplotlib.image.AxesImage at 0x11a677a58>"
      ]
     },
     "execution_count": 14,
     "metadata": {},
     "output_type": "execute_result"
    },
    {
     "data": {
      "image/png": "[encoded data removed]",
      "text/plain": [
       "<Figure size 432x288 with 1 Axes>"
      ]
     },
     "metadata": {
      "needs_background": "light"
     },
     "output_type": "display_data"
    }
   ],
   "source": [
    "#Calcualting the run time\n",
    "begin_time = time.time() #start time\n",
    "\n",
    "#calling the main function for iteration on t = 1 to max_iterations\n",
    "run()\n",
    "print(\"Training time\",time.time() - begin_time, \"seconds \") #prints the time taken \n",
    "\n",
    "#visualisation\n",
    "plt.imshow(image_data)"
   ]
  },
  {
   "cell_type": "markdown",
   "metadata": {},
   "source": [
    "To improve the performance:-\n",
    "I read some of the research papers on SOM, and the ideas have been derived from my study.\n",
    "Instead of calculating the Euclidean distance, faster distance calculators can be used, to calculate the distance of the neighbours from the BMU.\n",
    "The distance calculation will have smaller margin for same cluster and larger margin for different cluster.[1]\n",
    "\n",
    "Improving the SOM, being less dependent on the initalisation parameters.\n",
    "\n",
    "As the data size and iterations increase the clustering is finer and better so increasing the input size and training size"
   ]
  },
  {
   "cell_type": "markdown",
   "metadata": {},
   "source": [
    "Ref:\n",
    "    Improving Performance of Self-Organising Maps with Distance Metric Learning Method Piotr Plo´nski and Krzysztof Zaremba"
   ]
  },
  {
   "cell_type": "code",
   "execution_count": null,
   "metadata": {},
   "outputs": [],
   "source": []
  }
 ],
 "metadata": {
  "kernelspec": {
   "display_name": "Python 3",
   "language": "python",
   "name": "python3"
  },
  "language_info": {
   "codemirror_mode": {
    "name": "ipython",
    "version": 3
   },
   "file_extension": ".py",
   "mimetype": "text/x-python",
   "name": "python",
   "nbconvert_exporter": "python",
   "pygments_lexer": "ipython3",
   "version": "3.7.3"
  }
 },
 "nbformat": 4,
 "nbformat_minor": 2
}
